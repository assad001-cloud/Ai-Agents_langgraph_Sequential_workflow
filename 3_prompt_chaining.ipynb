{
 "cells": [
  {
   "cell_type": "code",
   "execution_count": 14,
   "id": "215a70a4",
   "metadata": {},
   "outputs": [],
   "source": [
    "from langgraph.graph import StateGraph , START , END\n",
    "from typing import TypedDict\n",
    "from dotenv import load_dotenv"
   ]
  },
  {
   "cell_type": "code",
   "execution_count": 15,
   "id": "30d1977e",
   "metadata": {},
   "outputs": [
    {
     "data": {
      "text/plain": [
       "True"
      ]
     },
     "execution_count": 15,
     "metadata": {},
     "output_type": "execute_result"
    }
   ],
   "source": [
    "load_dotenv()"
   ]
  },
  {
   "cell_type": "code",
   "execution_count": 16,
   "id": "6901c88e",
   "metadata": {},
   "outputs": [],
   "source": [
    "from langchain_google_genai import ChatGoogleGenerativeAI\n",
    "model = ChatGoogleGenerativeAI(model=\"gemini-1.5-flash\") "
   ]
  },
  {
   "cell_type": "code",
   "execution_count": 17,
   "id": "85328a72",
   "metadata": {},
   "outputs": [],
   "source": [
    "# create a state \n",
    "class BlogState(TypedDict):\n",
    "    title:str\n",
    "    outline:str\n",
    "    content:str"
   ]
  },
  {
   "cell_type": "code",
   "execution_count": 18,
   "id": "0711a45c",
   "metadata": {},
   "outputs": [],
   "source": [
    "def create_outline(state: BlogState) -> BlogState:\n",
    "\n",
    "    # Fetch the title from the state \n",
    "    title = state['title']\n",
    "    # call the llm to generate an outline\n",
    "    propmt = f\"Generate a detailed  outline for a blog on the topic: {title}\"\n",
    "    outline= model.invoke(propmt).content\n",
    "\n",
    "    # update state\n",
    "    state['outline']=outline\n",
    "    return state"
   ]
  },
  {
   "cell_type": "code",
   "execution_count": 19,
   "id": "78ac318e",
   "metadata": {},
   "outputs": [],
   "source": [
    "# create a blog\n",
    "\n",
    "def create_blog(state: BlogState) -> BlogState:\n",
    "    title = state['title']\n",
    "    outline = state['outline']\n",
    "\n",
    "    prompt = f'Write a detailed blog on the title - {title} using the following outline \\n {outline}'\n",
    "    content = model.invoke(prompt).content\n",
    "    state['content'] = content\n",
    "    return state"
   ]
  },
  {
   "cell_type": "code",
   "execution_count": 20,
   "id": "b2fd6eff",
   "metadata": {},
   "outputs": [],
   "source": [
    "graph = StateGraph(BlogState)\n",
    "\n",
    "#nodes \n",
    "\n",
    "graph.add_node('create_outline', create_outline)\n",
    "graph.add_node('create_Blog', create_blog)\n",
    "\n",
    "\n",
    "# edges\n",
    "\n",
    "graph.add_edge(START, 'create_outline')\n",
    "graph.add_edge('create_outline', 'create_Blog')\n",
    "graph.add_edge('create_Blog', END)\n",
    "\n",
    "workflow = graph.compile()"
   ]
  },
  {
   "cell_type": "code",
   "execution_count": 21,
   "id": "587a9cb3",
   "metadata": {},
   "outputs": [
    {
     "data": {
      "image/png": "[encoded data removed]",
      "text/plain": [
       "<IPython.core.display.Image object>"
      ]
     },
     "execution_count": 21,
     "metadata": {},
     "output_type": "execute_result"
    }
   ],
   "source": [
    "from IPython.display import Image\n",
    "Image(workflow.get_graph().draw_mermaid_png())"
   ]
  },
  {
   "cell_type": "code",
   "execution_count": 24,
   "id": "c5cd87e1",
   "metadata": {},
   "outputs": [
    {
     "name": "stdout",
     "output_type": "stream",
     "text": [
      "## Rise of Agentic AI in Pakistan: A Nascent Revolution\n",
      "\n",
      "**I. Introduction:** Agentic AI, capable of independent action, is globally transforming industries.  Its potential impact on Pakistan is immense, promising efficiency and innovation.\n",
      "\n",
      "**II. Current State:**  Pakistan's adoption is limited, but burgeoning tech interest hints at growth.  While specific examples are nascent, early-stage startups are exploring AI applications.\n",
      "\n",
      "**III. Drivers of Growth:** Government digitalization pushes and a growing pool of tech talent fuel AI development. Agentic AI offers solutions for agriculture optimization and improved healthcare access.\n",
      "\n",
      "**IV. Challenges:**  Inadequate infrastructure, data limitations, ethical concerns surrounding autonomous systems, and a shortage of specialized AI expertise hinder progress.\n",
      "\n",
      "**V. Future Outlook:** Agentic AI can revolutionize Pakistan's sectors. Strategic investments, robust regulations, and a focus on responsible AI development are crucial for realizing its transformative potential.  Let's foster ethical and beneficial AI growth in Pakistan.\n"
     ]
    }
   ],
   "source": [
    "initial_state = {'title': 'Rise of Agentic ai  in pakistan in 100  words  , in keypoints'}\n",
    "\n",
    "final_state = workflow.invoke(initial_state)\n",
    "\n",
    "print(final_state['content'])"
   ]
  },
  {
   "cell_type": "code",
   "execution_count": 25,
   "id": "e525fe80",
   "metadata": {},
   "outputs": [
    {
     "name": "stdout",
     "output_type": "stream",
     "text": [
      "I. Introduction: Agentic AI's global rise and its potential impact on Pakistan.\n",
      "\n",
      "II. Current State:  Limited adoption but growing interest in Pakistan's tech sector.  Mention specific examples (if any).\n",
      "\n",
      "III. Drivers of Growth:  Government initiatives, rising tech talent,  potential for solving local problems (e.g., agriculture, healthcare).\n",
      "\n",
      "IV. Challenges:  Infrastructure limitations, data scarcity, ethical concerns, lack of skilled workforce.\n",
      "\n",
      "V. Future Outlook:  Potential for significant impact across various sectors, need for strategic investment & regulation.  Call to action:  fostering responsible AI development.\n"
     ]
    }
   ],
   "source": [
    "print(final_state['outline'])"
   ]
  }
 ],
 "metadata": {
  "kernelspec": {
   "display_name": "myenv",
   "language": "python",
   "name": "python3"
  },
  "language_info": {
   "codemirror_mode": {
    "name": "ipython",
    "version": 3
   },
   "file_extension": ".py",
   "mimetype": "text/x-python",
   "name": "python",
   "nbconvert_exporter": "python",
   "pygments_lexer": "ipython3",
   "version": "3.12.10"
  }
 },
 "nbformat": 4,
 "nbformat_minor": 5
}
