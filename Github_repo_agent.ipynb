{
 "cells": [
  {
   "cell_type": "code",
   "execution_count": 10,
   "id": "66a0242f",
   "metadata": {},
   "outputs": [
    {
     "ename": "ModuleNotFoundError",
     "evalue": "No module named 'langchain'",
     "output_type": "error",
     "traceback": [
      "\u001b[31m---------------------------------------------------------------------------\u001b[39m",
      "\u001b[31mModuleNotFoundError\u001b[39m                       Traceback (most recent call last)",
      "\u001b[36mCell\u001b[39m\u001b[36m \u001b[39m\u001b[32mIn[10]\u001b[39m\u001b[32m, line 4\u001b[39m\n\u001b[32m      2\u001b[39m \u001b[38;5;28;01mfrom\u001b[39;00m\u001b[38;5;250m \u001b[39m\u001b[34;01mdotenv\u001b[39;00m\u001b[38;5;250m \u001b[39m\u001b[38;5;28;01mimport\u001b[39;00m load_dotenv\n\u001b[32m      3\u001b[39m \u001b[38;5;28;01mimport\u001b[39;00m\u001b[38;5;250m \u001b[39m\u001b[34;01mos\u001b[39;00m\n\u001b[32m----> \u001b[39m\u001b[32m4\u001b[39m \u001b[38;5;28;01mfrom\u001b[39;00m\u001b[38;5;250m \u001b[39m\u001b[34;01mlangchain\u001b[39;00m\u001b[34;01m.\u001b[39;00m\u001b[34;01mchat_models\u001b[39;00m\u001b[38;5;250m \u001b[39m\u001b[38;5;28;01mimport\u001b[39;00m ChatOpenAI\n\u001b[32m      6\u001b[39m load_dotenv()\n\u001b[32m      8\u001b[39m GITHUB_TOKEN = os.getenv(\u001b[33m\"\u001b[39m\u001b[33mGITHUB_TOKEN\u001b[39m\u001b[33m\"\u001b[39m)\n",
      "\u001b[31mModuleNotFoundError\u001b[39m: No module named 'langchain'"
     ]
    }
   ],
   "source": [
    "# At the top of GitHub.ipynb\n",
    "from dotenv import load_dotenv\n",
    "import os\n",
    "from langchain.chat_models import ChatOpenAI\n",
    "\n",
    "load_dotenv()\n",
    "\n",
    "GITHUB_TOKEN = os.getenv(\"GITHUB_TOKEN\")\n",
    "OPENAI_API_KEY = os.getenv(\"OPENAI_API_KEY\")\n",
    "\n",
    "GPT_MODEL = ChatOpenAI(model=\"gpt-4o\", temperature=0.2)"
   ]
  },
  {
   "cell_type": "code",
   "execution_count": 11,
   "id": "4caf0ce2",
   "metadata": {},
   "outputs": [
    {
     "ename": "ModuleNotFoundError",
     "evalue": "No module named 'langchain'",
     "output_type": "error",
     "traceback": [
      "\u001b[31m---------------------------------------------------------------------------\u001b[39m",
      "\u001b[31mModuleNotFoundError\u001b[39m                       Traceback (most recent call last)",
      "\u001b[36mCell\u001b[39m\u001b[36m \u001b[39m\u001b[32mIn[11]\u001b[39m\u001b[32m, line 5\u001b[39m\n\u001b[32m      3\u001b[39m \u001b[38;5;28;01mfrom\u001b[39;00m\u001b[38;5;250m \u001b[39m\u001b[34;01mlangchain_core\u001b[39;00m\u001b[34;01m.\u001b[39;00m\u001b[34;01mmessages\u001b[39;00m\u001b[38;5;250m \u001b[39m\u001b[38;5;28;01mimport\u001b[39;00m HumanMessage, AIMessage\n\u001b[32m      4\u001b[39m \u001b[38;5;28;01mfrom\u001b[39;00m\u001b[38;5;250m \u001b[39m\u001b[34;01mlangchain_core\u001b[39;00m\u001b[34;01m.\u001b[39;00m\u001b[34;01mrunnables\u001b[39;00m\u001b[38;5;250m \u001b[39m\u001b[38;5;28;01mimport\u001b[39;00m Runnable\n\u001b[32m----> \u001b[39m\u001b[32m5\u001b[39m \u001b[38;5;28;01mfrom\u001b[39;00m\u001b[38;5;250m \u001b[39m\u001b[34;01mlangchain\u001b[39;00m\u001b[34;01m.\u001b[39;00m\u001b[34;01mchat_models\u001b[39;00m\u001b[38;5;250m \u001b[39m\u001b[38;5;28;01mimport\u001b[39;00m ChatOpenAI\n\u001b[32m      6\u001b[39m \u001b[38;5;28;01mimport\u001b[39;00m\u001b[38;5;250m \u001b[39m\u001b[34;01mos\u001b[39;00m\n\u001b[32m      7\u001b[39m \u001b[38;5;28;01mimport\u001b[39;00m\u001b[38;5;250m \u001b[39m\u001b[34;01mrequests\u001b[39;00m\n",
      "\u001b[31mModuleNotFoundError\u001b[39m: No module named 'langchain'"
     ]
    }
   ],
   "source": [
    "from langgraph.graph import StateGraph, END\n",
    "from langgraph.graph.message import add_messages\n",
    "from langchain_core.messages import HumanMessage, AIMessage\n",
    "from langchain_core.runnables import Runnable\n",
    "from langchain.chat_models import ChatOpenAI\n",
    "import os\n",
    "import requests\n",
    "import json"
   ]
  },
  {
   "cell_type": "code",
   "execution_count": 12,
   "id": "a471ecc8",
   "metadata": {},
   "outputs": [],
   "source": [
    "# === NODE: Generate Repo Name ===\n",
    "\n",
    "def generate_repo_name(state):\n",
    "    files = state.get(\"files\", [])\n",
    "    file_names = [f[\"name\"] for f in files]\n",
    "    prompt = \"Suggest a GitHub repository name based on the following project files:\\n\" + \"\\n\".join(file_names)\n",
    "    response = GPT_MODEL.invoke([HumanMessage(content=prompt)])\n",
    "    repo_name = response.content.strip().replace(\" \", \"-\").lower()\n",
    "    return {\"repo_name\": repo_name}"
   ]
  },
  {
   "cell_type": "code",
   "execution_count": null,
   "id": "1dbc4f2b",
   "metadata": {},
   "outputs": [],
   "source": [
    "# === NODE: Generate README ===\n",
    "\n",
    "def generate_readme(state):\n",
    "    files = state.get(\"files\", [])\n",
    "    filenames = [f[\"name\"] for f in files]\n",
    "    prompt = f\"Write a professional README.md file for a project with these files:\\n{filenames}\"\n",
    "    response = GPT_MODEL.invoke([HumanMessage(content=prompt)])\n",
    "    return {\"readme\": response.content}"
   ]
  },
  {
   "cell_type": "code",
   "execution_count": null,
   "id": "d52ca1de",
   "metadata": {},
   "outputs": [],
   "source": [
    "# === NODE: Summarize Files ===\n",
    "\n",
    "def summarize_files(state):\n",
    "    files = state.get(\"files\", [])\n",
    "    summaries = {}\n",
    "    for file in files:\n",
    "        name = file[\"name\"]\n",
    "        content = file[\"content\"]\n",
    "        prompt = f\"Summarize the following code file named '{name}':\\n\\n{content}\"\n",
    "        summary = GPT_MODEL.invoke([HumanMessage(content=prompt)]).content\n",
    "        summaries[name] = summary\n",
    "    return {\"summaries\": summaries}"
   ]
  },
  {
   "cell_type": "code",
   "execution_count": null,
   "id": "8db2b001",
   "metadata": {},
   "outputs": [],
   "source": [
    "# === NODE: Create GitHub Repo and Upload ===\n",
    "\n",
    "def create_and_upload_repo(state):\n",
    "    headers = {\n",
    "        \"Authorization\": f\"token {GITHUB_TOKEN}\",\n",
    "        \"Accept\": \"application/vnd.github.v3+json\"\n",
    "    }\n",
    "    repo_name = state[\"repo_name\"]\n",
    "    readme = state[\"readme\"]\n",
    "    summaries = state[\"summaries\"]\n",
    "    files = state[\"files\"]\n",
    "\n",
    "    # Step 1: Create repo\n",
    "    repo_data = {\"name\": repo_name, \"auto_init\": False, \"private\": False}\n",
    "    repo_resp = requests.post(\"https://api.github.com/user/repos\", headers=headers, json=repo_data)\n",
    "    if repo_resp.status_code != 201:\n",
    "        raise Exception(f\"GitHub repo creation failed: {repo_resp.json()}\")\n",
    "\n",
    "    # Step 2: Upload README\n",
    "    upload_file_to_github(repo_name, \"README.md\", readme, headers)\n",
    "\n",
    "    # Step 3: Upload other files\n",
    "    for file in files:\n",
    "        upload_file_to_github(repo_name, file[\"name\"], file[\"content\"], headers)\n",
    "\n",
    "    # Step 4: Upload summary file\n",
    "    summary_content = json.dumps(summaries, indent=2)\n",
    "    upload_file_to_github(repo_name, \"code_summaries.json\", summary_content, headers)\n",
    "\n",
    "    return {\"github_repo\": f\"https://github.com/your_username/{repo_name}\"}"
   ]
  },
  {
   "cell_type": "code",
   "execution_count": null,
   "id": "61c6376c",
   "metadata": {},
   "outputs": [],
   "source": [
    "# === Helper: Upload File ===\n",
    "\n",
    "def upload_file_to_github(repo_name, path, content, headers):\n",
    "    from base64 import b64encode\n",
    "    url = f\"https://api.github.com/repos/your_username/{repo_name}/contents/{path}\"\n",
    "    data = {\n",
    "        \"message\": f\"Add {path}\",\n",
    "        \"content\": b64encode(content.encode()).decode()\n",
    "    }\n",
    "    r = requests.put(url, headers=headers, json=data)\n",
    "    if r.status_code not in (200, 201):\n",
    "        raise Exception(f\"Failed to upload {path}: {r.text}\")"
   ]
  },
  {
   "cell_type": "code",
   "execution_count": null,
   "id": "d3378db8",
   "metadata": {},
   "outputs": [],
   "source": [
    "# === STATE & GRAPH ===\n",
    "\n",
    "class RepoState(dict):\n",
    "    pass\n",
    "\n",
    "graph = StateGraph(RepoState)\n",
    "graph.add_node(\"generate_repo_name\", generate_repo_name)\n",
    "graph.add_node(\"generate_readme\", generate_readme)\n",
    "graph.add_node(\"summarize_files\", summarize_files)\n",
    "graph.add_node(\"upload_repo\", create_and_upload_repo)\n",
    "\n",
    "graph.set_entry_point(\"generate_repo_name\")\n",
    "graph.add_edge(\"generate_repo_name\", \"generate_readme\")\n",
    "graph.add_edge(\"generate_readme\", \"summarize_files\")\n",
    "graph.add_edge(\"summarize_files\", \"upload_repo\")\n",
    "graph.add_edge(\"upload_repo\", END)\n",
    "\n",
    "final_graph = graph.compile()"
   ]
  }
 ],
 "metadata": {
  "kernelspec": {
   "display_name": "myenv",
   "language": "python",
   "name": "python3"
  },
  "language_info": {
   "codemirror_mode": {
    "name": "ipython",
    "version": 3
   },
   "file_extension": ".py",
   "mimetype": "text/x-python",
   "name": "python",
   "nbconvert_exporter": "python",
   "pygments_lexer": "ipython3",
   "version": "3.12.10"
  }
 },
 "nbformat": 4,
 "nbformat_minor": 5
}
